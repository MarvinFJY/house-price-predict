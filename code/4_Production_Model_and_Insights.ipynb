{
 "cells": [
  {
   "cell_type": "markdown",
   "id": "290274c5",
   "metadata": {},
   "source": [
    "# Project 2: Ames Housing Saleprice Prediction\n",
    "\n",
    "---\n",
    "\n",
    "#### 04: <b>Production Model and Insights</b>"
   ]
  },
  {
   "cell_type": "markdown",
   "id": "9fc08bd3",
   "metadata": {},
   "source": [
    "### Contents:\n",
    "- [Imports and functions](#Library-and-data-import)\n",
    "- [Examine the Data](#Examine-the-data)\n",
    "- [Model Preparation](#Model-Preparation)\n",
    "- [Model Evaluation](#Model-Evaluation)\n",
    "- [Production Model](#Production-Model)\n",
    "- [Inferential Visualizations](#Inferential-Visualizations)\n",
    "- [Kaggle Submission](#Kaggle-Submission)\n",
    "- [Interpretation and insights](#Interpretation-and-insights)"
   ]
  },
  {
   "cell_type": "markdown",
   "id": "9e0b86eb",
   "metadata": {},
   "source": [
    "## Library and data import"
   ]
  },
  {
   "cell_type": "code",
   "execution_count": 1,
   "id": "c13cad6c",
   "metadata": {},
   "outputs": [],
   "source": [
    "# import libraries\n",
    "import numpy as np\n",
    "import pandas as pd\n",
    "\n",
    "from sklearn.linear_model import LinearRegression, Ridge, Lasso, ElasticNet,\\\n",
    "RidgeCV, LassoCV, ElasticNetCV\n",
    "from sklearn.dummy import DummyRegressor\n",
    "from sklearn.model_selection import cross_val_score, train_test_split, RepeatedKFold\n",
    "from sklearn.preprocessing import StandardScaler, PowerTransformer\n",
    "from sklearn.metrics import r2_score, mean_squared_error\n",
    "from scipy.stats import skew, pearsonr\n",
    "\n",
    "import matplotlib.pyplot as plt\n",
    "import seaborn as sns\n",
    "plt.style.use('fivethirtyeight')\n",
    "\n",
    "sns.set_style('whitegrid')"
   ]
  },
  {
   "cell_type": "code",
   "execution_count": 2,
   "id": "3eaccbf6",
   "metadata": {},
   "outputs": [],
   "source": [
    "# import cleaned training data\n",
    "train_model = pd.read_csv('../datasets/train_final_dummy.csv')\n",
    "pd.set_option('display.max_columns', 100)\n",
    "pd.set_option('display.max_rows', 100)"
   ]
  },
  {
   "cell_type": "markdown",
   "id": "7decffab",
   "metadata": {},
   "source": [
    "## Functions for modeling"
   ]
  },
  {
   "cell_type": "code",
   "execution_count": 3,
   "id": "2365e25a",
   "metadata": {},
   "outputs": [],
   "source": [
    "# cross validating test data\n",
    "def run_cv_test(xtest, ytest):\n",
    "    # baseline model\n",
    "    base_cv_scores = cross_val_score(dummy_regressor, xtest, ytest, cv= 10)\n",
    "    base_cv_mse = -cross_val_score(dummy_regressor, xtest, ytest,cv=10, scoring ='neg_mean_squared_error')\n",
    "    print(f'Baseline R2: {np.mean(base_cv_scores)}')\n",
    "    print(f'Baseline RMSE: {np.sqrt(base_cv_mse.mean())}')\n",
    "    \n",
    "    # linear regression\n",
    "    lr_cv_scores = cross_val_score(lr, xtest, ytest, cv= 10)\n",
    "    lr_cv_mse = -cross_val_score(lr, xtest, ytest,cv=10, scoring ='neg_mean_squared_error')\n",
    "    print(f'Linear R2: {np.mean(lr_cv_scores)}')\n",
    "    print(f'Linear RMSE: {np.sqrt(lr_cv_mse.mean())}')\n",
    "    \n",
    "    # ridge regression\n",
    "    ridge_cv_scores = cross_val_score(ridge, xtest, ytest, cv=10)\n",
    "    ridge_cv_mse = -cross_val_score(ridge, xtest, ytest,cv=10, scoring ='neg_mean_squared_error')\n",
    "    print(f'Ridge R2: {np.mean(ridge_cv_scores)}')\n",
    "    print(f'Ridge RMSE: {np.sqrt(ridge_cv_mse.mean())}')\n",
    "    \n",
    "    # lasso regression\n",
    "    lasso_cv_scores = cross_val_score(lasso, xtest, ytest, cv=10)\n",
    "    lasso_cv_mse = -cross_val_score(lasso, xtest, ytest,cv=10, scoring ='neg_mean_squared_error')\n",
    "    print(f'Lasso R2: {np.mean(lasso_cv_scores)}')\n",
    "    print(f'Lasso RMSE: {np.sqrt(lasso_cv_mse.mean())}')\n",
    "    \n",
    "    # elastic net regression\n",
    "    enet_cv_scores = cross_val_score(enet, xtest, ytest, cv=10)\n",
    "    enet_cv_mse = -cross_val_score(enet, xtest, ytest,cv=10, scoring ='neg_mean_squared_error')\n",
    "    print(f'Enet R2: {np.mean(enet_cv_scores)}')\n",
    "    print(f'Enet RMSE: {np.sqrt(enet_cv_mse.mean())}')\n"
   ]
  },
  {
   "cell_type": "markdown",
   "id": "399f4f52",
   "metadata": {},
   "source": [
    "## Model Preparation\n",
    "---"
   ]
  },
  {
   "cell_type": "markdown",
   "id": "8ce56795",
   "metadata": {},
   "source": [
    "### Train Test Split\n",
    "\n",
    "we will be training more than testing as this is essentially a training dataset."
   ]
  },
  {
   "cell_type": "code",
   "execution_count": 4,
   "id": "474e9e51",
   "metadata": {},
   "outputs": [],
   "source": [
    "# create X and y (i.e. input & output variables) for modeling\n",
    "features = [col for col in train_model._get_numeric_data().columns if col != 'saleprice']\n",
    "X = train_model[features]\n",
    "y = train_model['saleprice']"
   ]
  },
  {
   "cell_type": "code",
   "execution_count": 5,
   "id": "d4a80ec8",
   "metadata": {},
   "outputs": [],
   "source": [
    "# train test split\n",
    "X_train, X_test, y_train, y_test = train_test_split(X, y, random_state = 42, test_size=0.2)"
   ]
  },
  {
   "cell_type": "markdown",
   "id": "86884e58",
   "metadata": {},
   "source": [
    "### Scaling\n",
    "\n",
    "To achieve high performances with our models, scaling is required.\n",
    "\n",
    "StandardScaler accomplishes this by using two operations:\n",
    "- Centering: subtract the mean from each value in the distribution.\n",
    "- Scaling: divide each result by the standard deviation.\n",
    "\n",
    "Many elements used in the objective function of a learning algorithm assume that all features are centered around zero and have variance in the same order. If a feature has a variance that is orders of magnitude larger than others, it might dominate the objective function and make the estimator unable to learn from other features correctly as expected."
   ]
  },
  {
   "cell_type": "code",
   "execution_count": 6,
   "id": "d81fee96",
   "metadata": {},
   "outputs": [],
   "source": [
    "# scaling (i.e. standardizing)\n",
    "ss = StandardScaler()\n",
    "\n",
    "X_train_scaled = ss.fit_transform(X_train)\n",
    "X_test_scaled = ss.transform(X_test)"
   ]
  },
  {
   "cell_type": "markdown",
   "id": "b8d09edb",
   "metadata": {},
   "source": [
    "### Hyperparameter tuning"
   ]
  },
  {
   "cell_type": "markdown",
   "id": "1c92bc48",
   "metadata": {},
   "source": [
    "#### Optimal value for Ridge Regression $\\alpha$"
   ]
  },
  {
   "cell_type": "code",
   "execution_count": 7,
   "id": "31c74cae",
   "metadata": {},
   "outputs": [
    {
     "name": "stdout",
     "output_type": "stream",
     "text": [
      "Optimal ridge alpha: 60.80224261649424\n"
     ]
    }
   ],
   "source": [
    "ridge_alphas = np.logspace(0,5,200)\n",
    "\n",
    "optimal_ridge = RidgeCV(alphas=ridge_alphas, cv = 10)\n",
    "optimal_ridge.fit(X_train_scaled, y_train)\n",
    "\n",
    "print(f'Optimal ridge alpha: {optimal_ridge.alpha_}')"
   ]
  },
  {
   "cell_type": "markdown",
   "id": "5f6dc3b2",
   "metadata": {},
   "source": [
    "#### Optimal value for Lasso Regression $\\alpha$"
   ]
  },
  {
   "cell_type": "code",
   "execution_count": 8,
   "id": "81efccb1",
   "metadata": {},
   "outputs": [
    {
     "name": "stdout",
     "output_type": "stream",
     "text": [
      "Optimal lasso alpha: 0.0010007904133900875\n"
     ]
    }
   ],
   "source": [
    "optimal_lasso = LassoCV(n_alphas=500, cv = 10)\n",
    "optimal_lasso.fit(X_train_scaled, y_train)\n",
    "\n",
    "print(f'Optimal lasso alpha: {optimal_lasso.alpha_}')"
   ]
  },
  {
   "cell_type": "markdown",
   "id": "f50cc572",
   "metadata": {},
   "source": [
    "#### Optimal value for Elastic Net Regression  $\\alpha$  & L1 ratio"
   ]
  },
  {
   "cell_type": "code",
   "execution_count": 9,
   "id": "62c4094e",
   "metadata": {},
   "outputs": [
    {
     "name": "stdout",
     "output_type": "stream",
     "text": [
      "Optimal enet alpha: 0.0021293311081840693\n",
      "Optimal enet L1 ratio: 0.5\n"
     ]
    }
   ],
   "source": [
    "l1_ratios = np.arange(0.5,1.0,0.005)\n",
    "\n",
    "optimal_enet = ElasticNetCV(l1_ratio = l1_ratios, n_alphas = 50, cv=10)\n",
    "optimal_enet.fit(X_train_scaled, y_train)\n",
    "\n",
    "print(f'Optimal enet alpha: {optimal_enet.alpha_}')\n",
    "print(f'Optimal enet L1 ratio: {optimal_enet.l1_ratio_}')"
   ]
  },
  {
   "cell_type": "markdown",
   "id": "20a6022e",
   "metadata": {},
   "source": [
    "## Model Evaluation\n",
    "---\n",
    "\n",
    "Summary of results below:\n",
    "\n",
    "| Regression Model \t| R2      \t| RMSE    \t|\n",
    "|-------\t|---------\t|---------\t|\n",
    "|Train - baseline|-0.00200|79291.93\n",
    "|Test - baseline| -0.06356|79215.86\n",
    "|Train - linear|0.88826|26406.77|\n",
    "|Test - linear|-5.52393669615856e+22|1.5319209953833976e+16|\n",
    "|Train - ridge|0.88881|26342.37|\n",
    "|Test - ridge|0.85957|26783.33|\n",
    "|Train - lasso|0.89004|26177.93|\n",
    "|Test - lasso|0.85472|26934.17|\n",
    "|Train - elastic net|0.87921|27500.77|\n",
    "|Test - elastic net|0.86177|27411.64|\n",
    "\n",
    "\n",
    "Based on the scores returned using our `train_model` dataset, our **Lasso model performed the best** by having the lowest RMSE (our primary evaluation metric). There was also no significant variance between training and test data, indicating an absence of overfitting.\n",
    "\n",
    "We did note that the ordinary linear regression performed reasonably well in the train dataset but extremely poor in the test data set. Hence, a sign of overfitting. This may be due to the large number of features (89 features) involved and only approximately 2000 observations, causing a overly complex model with irrelevant features and multicollinearity of independent variables.\n",
    "\n",
    "Therefore, it is within expectation that regularized models performed significantly better compared to an ordinary linear regression, due to the penalty term which minimises coefficients of irrelevant features until it reaches 0 (Lasso) or close to zero (Ridge)."
   ]
  },
  {
   "cell_type": "markdown",
   "id": "422cfc87",
   "metadata": {},
   "source": [
    "### Instantiate Models\n",
    "\n",
    "Using optimal hyperparameters calculated earlier."
   ]
  },
  {
   "cell_type": "code",
   "execution_count": 10,
   "id": "a8b80e01",
   "metadata": {},
   "outputs": [],
   "source": [
    "dummy_regressor = DummyRegressor()"
   ]
  },
  {
   "cell_type": "code",
   "execution_count": 11,
   "id": "b8093dac",
   "metadata": {},
   "outputs": [],
   "source": [
    "lr = LinearRegression()"
   ]
  },
  {
   "cell_type": "code",
   "execution_count": 12,
   "id": "3819939f",
   "metadata": {},
   "outputs": [],
   "source": [
    "ridge = Ridge(alpha=optimal_ridge.alpha_)"
   ]
  },
  {
   "cell_type": "code",
   "execution_count": 13,
   "id": "bdc5406f",
   "metadata": {},
   "outputs": [],
   "source": [
    "lasso = Lasso(alpha=optimal_lasso.alpha_)"
   ]
  },
  {
   "cell_type": "code",
   "execution_count": 14,
   "id": "f3cb3d16",
   "metadata": {},
   "outputs": [],
   "source": [
    "enet = ElasticNet(alpha=optimal_enet.alpha_, l1_ratio=optimal_enet.l1_ratio_)"
   ]
  },
  {
   "cell_type": "markdown",
   "id": "6838bc4e",
   "metadata": {},
   "source": [
    "### Cross Validation - training\n",
    "\n",
    "Evaluate models using `cross_val_score` in the following order:\n",
    "\n",
    "    - Baseline Regression Model\n",
    "    - Linear Regression Model\n",
    "    - Ridge Regression Model\n",
    "    - Lasso Regression Model\n",
    "    - Elastic Net Regression Model"
   ]
  },
  {
   "cell_type": "code",
   "execution_count": 15,
   "id": "ba4f2ca3",
   "metadata": {},
   "outputs": [
    {
     "name": "stdout",
     "output_type": "stream",
     "text": [
      "R2: -0.0024099915872362264\n",
      "RMSE: 0.41713388362282117\n"
     ]
    }
   ],
   "source": [
    "# baseline model\n",
    "base_cv_scores = cross_val_score(dummy_regressor, X_train_scaled, y_train, cv= 10)\n",
    "base_cv_mse = -cross_val_score(dummy_regressor, X_train_scaled, y_train,cv=10, scoring ='neg_mean_squared_error')\n",
    "\n",
    "print(f'R2: {np.mean(base_cv_scores)}')\n",
    "print(f'RMSE: {np.sqrt(base_cv_mse.mean())}')"
   ]
  },
  {
   "cell_type": "code",
   "execution_count": 16,
   "id": "577ec02b",
   "metadata": {},
   "outputs": [
    {
     "name": "stdout",
     "output_type": "stream",
     "text": [
      "R2: 0.8872020633707998\n",
      "RMSE: 0.1406469591947903\n"
     ]
    }
   ],
   "source": [
    "# linear regression\n",
    "lr_cv_scores = cross_val_score(lr, X_train_scaled, y_train, cv= 10)\n",
    "lr_cv_mse = -cross_val_score(lr, X_train_scaled, y_train,cv=10, scoring ='neg_mean_squared_error')\n",
    "\n",
    "print(f'R2: {np.mean(lr_cv_scores)}')\n",
    "print(f'RMSE: {np.sqrt(lr_cv_mse.mean())}')"
   ]
  },
  {
   "cell_type": "code",
   "execution_count": 17,
   "id": "bcb7d40e",
   "metadata": {},
   "outputs": [
    {
     "name": "stdout",
     "output_type": "stream",
     "text": [
      "R2: 0.896803967798211\n",
      "RMSE: 0.13391560781808426\n"
     ]
    }
   ],
   "source": [
    "# ridge regression\n",
    "ridge_cv_scores = cross_val_score(ridge, X_train_scaled, y_train, cv=10)\n",
    "ridge_cv_mse = -cross_val_score(ridge, X_train_scaled, y_train,cv=10, scoring ='neg_mean_squared_error')\n",
    "\n",
    "print(f'R2: {np.mean(ridge_cv_scores)}')\n",
    "print(f'RMSE: {np.sqrt(ridge_cv_mse.mean())}')"
   ]
  },
  {
   "cell_type": "code",
   "execution_count": 18,
   "id": "3aab6df6",
   "metadata": {},
   "outputs": [
    {
     "name": "stdout",
     "output_type": "stream",
     "text": [
      "R2: 0.8972295161597005\n",
      "RMSE: 0.13364910293531698\n"
     ]
    }
   ],
   "source": [
    "# lasso regression CV\n",
    "lasso_cv_scores = cross_val_score(lasso, X_train_scaled, y_train, cv=10)\n",
    "lasso_cv_mse = -cross_val_score(lasso, X_train_scaled, y_train,cv=10, scoring ='neg_mean_squared_error')\n",
    "\n",
    "print(f'R2: {np.mean(lasso_cv_scores)}')\n",
    "print(f'RMSE: {np.sqrt(lasso_cv_mse.mean())}')"
   ]
  },
  {
   "cell_type": "code",
   "execution_count": 19,
   "id": "312a2d28",
   "metadata": {},
   "outputs": [
    {
     "name": "stdout",
     "output_type": "stream",
     "text": [
      "R2: 0.8972362078153031\n",
      "RMSE: 0.13364541552820247\n"
     ]
    }
   ],
   "source": [
    "# elastic net regression\n",
    "enet_cv_scores = cross_val_score(enet, X_train_scaled, y_train, cv=10)\n",
    "enet_cv_mse = -cross_val_score(enet, X_train_scaled, y_train,cv=10, scoring ='neg_mean_squared_error')\n",
    "\n",
    "print(f'R2: {np.mean(enet_cv_scores)}')\n",
    "print(f'RMSE: {np.sqrt(enet_cv_mse.mean())}')"
   ]
  },
  {
   "cell_type": "markdown",
   "id": "333c078c",
   "metadata": {},
   "source": [
    "### Cross Validation - test\n",
    "\n",
    "We will now evaluate our models on the 20% test size from the `train_model` dataframe."
   ]
  },
  {
   "cell_type": "code",
   "execution_count": 20,
   "id": "9ec81dc7",
   "metadata": {},
   "outputs": [
    {
     "name": "stdout",
     "output_type": "stream",
     "text": [
      "Baseline R2: -0.06021249448828583\n",
      "Baseline RMSE: 0.3884743890335135\n",
      "Linear R2: -1.501569363588279e+23\n",
      "Linear RMSE: 146107638917.68344\n",
      "Ridge R2: 0.8887557911468896\n",
      "Ridge RMSE: 0.1222176481412688\n",
      "Lasso R2: 0.8882404960349591\n",
      "Lasso RMSE: 0.12171458368367744\n",
      "Enet R2: 0.8885748812409832\n",
      "Enet RMSE: 0.12151714630961197\n"
     ]
    }
   ],
   "source": [
    "run_cv_test(X_test_scaled, y_test)"
   ]
  },
  {
   "cell_type": "markdown",
   "id": "bded6dc0",
   "metadata": {},
   "source": [
    "## Fitting and evaluating our Lasso model\n",
    "---\n",
    "\n",
    "Using our best model evaluated earlier (i.e. Lasso Regression model). We will now be fitting our model and evaluating R^2 & RMSE scores based **predicted saleprice**.\n"
   ]
  },
  {
   "cell_type": "markdown",
   "id": "119718cc",
   "metadata": {},
   "source": [
    "- Find the R^2 and RMSE of Lasso model (non cross-val-scores i.e. **non-estimated scores**)."
   ]
  },
  {
   "cell_type": "code",
   "execution_count": 21,
   "id": "f474423e",
   "metadata": {},
   "outputs": [
    {
     "data": {
      "text/plain": [
       "Lasso(alpha=0.0010007904133900875)"
      ]
     },
     "execution_count": 21,
     "metadata": {},
     "output_type": "execute_result"
    }
   ],
   "source": [
    "# fit training data to lasso model\n",
    "lasso.fit(X_train_scaled,y_train)"
   ]
  },
  {
   "cell_type": "code",
   "execution_count": 22,
   "id": "2895d62b",
   "metadata": {},
   "outputs": [
    {
     "name": "stdout",
     "output_type": "stream",
     "text": [
      "Training R2(Lasso)  0.9150627302112323\n",
      "Testing R2(Lasso): 0.9109854926866549\n"
     ]
    }
   ],
   "source": [
    "# calculate R^2 (non-CVS)\n",
    "print(\"Training R2(Lasso) \", lasso.score(X_train_scaled,y_train))\n",
    "print(\"Testing R2(Lasso):\", lasso.score(X_test_scaled,y_test))"
   ]
  },
  {
   "cell_type": "code",
   "execution_count": 23,
   "id": "3687672c",
   "metadata": {},
   "outputs": [
    {
     "name": "stdout",
     "output_type": "stream",
     "text": [
      "Training RMSE(Lasso): 20812.262195370597\n",
      "Testing RMSE(Lasso): 21898.643846489165\n"
     ]
    }
   ],
   "source": [
    "# calculate RMSE (non-CVS)\n",
    "print(\"Training RMSE(Lasso):\", np.sqrt(mean_squared_error(np.exp(y_train), np.exp(lasso.predict(X_train_scaled)))))\n",
    "print(\"Testing RMSE(Lasso):\", np.sqrt(mean_squared_error(np.exp(y_test), np.exp(lasso.predict(X_test_scaled)))))"
   ]
  },
  {
   "cell_type": "markdown",
   "id": "f840fa58",
   "metadata": {},
   "source": [
    "### Inferential Visualizations"
   ]
  },
  {
   "cell_type": "code",
   "execution_count": 24,
   "id": "5690181f",
   "metadata": {},
   "outputs": [
    {
     "data": {
      "image/png": "[encoded data removed]",
      "text/plain": [
       "<Figure size 432x288 with 1 Axes>"
      ]
     },
     "metadata": {},
     "output_type": "display_data"
    }
   ],
   "source": [
    "# scatterplot to show predicted saleprice versus actual saleprice\n",
    "\n",
    "# find y_pred\n",
    "lasso_y_pred = lasso.predict(X_test_scaled)\n",
    "plt.scatter(y_test, lasso_y_pred)\n",
    "\n",
    "p1 = max(max(y_test), max(lasso_y_pred))\n",
    "p2 = min(min(y_test), min(lasso_y_pred))\n",
    "plt.plot([p1, p2], [p1, p2], color = 'red', linewidth = 2)\n",
    "plt.title('Predicted vs. actual saleprice')\n",
    "plt.xlabel('Actual saleprice', fontsize=15)\n",
    "plt.ylabel('predicted saleprice', fontsize=15)\n",
    "plt.grid(False)\n",
    "plt.show()"
   ]
  },
  {
   "cell_type": "markdown",
   "id": "66519793",
   "metadata": {},
   "source": [
    "Overall the model had performed well with the line of best fit passing through most of the points, with no noticeable outliers as well. This could be said that the predicted saleprice is reasonably close to that of the actual saleprice."
   ]
  },
  {
   "cell_type": "code",
   "execution_count": 25,
   "id": "ced6262c",
   "metadata": {},
   "outputs": [
    {
     "data": {
      "image/png": "[encoded data removed]",
      "text/plain": [
       "<Figure size 432x288 with 1 Axes>"
      ]
     },
     "metadata": {},
     "output_type": "display_data"
    }
   ],
   "source": [
    "# find residuals\n",
    "lasso_resid = y_test - lasso_y_pred\n",
    "\n",
    "# plot residuals\n",
    "plt.scatter(y_test, lasso_resid)\n",
    "plt.axhline(0, linestyle='-', color='r', linewidth = 2)\n",
    "plt.title('Residual plot')\n",
    "plt.ylabel('residual (error term)', fontsize=12)\n",
    "plt.xlabel('actual saleprice', fontsize=12)\n",
    "plt.show()\n"
   ]
  },
  {
   "cell_type": "markdown",
   "id": "2e0cb503",
   "metadata": {},
   "source": [
    "One assumption of linear regression is **homoscedasticity**.\n",
    "\n",
    "Homoscedasticity in a model means that the error is constant along the values of the dependent variable (i.e. saleprice). Looking at the residual plot above, our residuals are fairly equally distributed across actual saleprice. Hence, we can conclude that our assumption holds true and our model is performing well."
   ]
  },
  {
   "cell_type": "markdown",
   "id": "8592dcda",
   "metadata": {},
   "source": [
    "## Production Model\n",
    "---\n",
    "\n",
    "With 88 independent variables currently in our Lasso model, our model is still fairly complex and hard to interpret. Hence, in order to simplify and increase interpretability of our model, so that we could present findings to management, we will be taking the **top 28 features** (i.e. absolute coefficients > 0.009) **for our production model**."
   ]
  },
  {
   "cell_type": "markdown",
   "id": "eb967ac5",
   "metadata": {},
   "source": [
    "### Interpreting Coefficients"
   ]
  },
  {
   "cell_type": "markdown",
   "id": "477591ee",
   "metadata": {},
   "source": [
    "Generally, feature coefficients can be interpreted as β1 in the following linear regression equation: \n",
    "\n",
    "$$y = \\beta_0 + \\beta_1 x_1$$\n",
    "\n",
    "Here, β1 represents the slope (i.e. coefficient) of the independent variable, which affects the predicted value of Y. In other words, for every 1 unit change in $x_1$, our target variable `saleprice` will increase by the amount of $\\beta_1$. Hence, this also means that for a larger coefficient, a unit increase in the independent variable (i.e. feature) will cause a larger increase in the dependent variable (i.e. target variable).\n",
    "\n",
    "However, as we have log-transformed our dependent variable, y, we would then have to interpret our coefficents differently as the linear regression equation then becomes:\n",
    "\n",
    "$$log(y) = \\beta_0 + \\beta_1 x_1$$\n",
    "\n",
    "The rule<sup>[(source)](https://data.library.virginia.edu/interpreting-log-transformations-in-a-linear-model/)</sup> for interpretation when only the dependent variable is log-transformed is to expnentiate the coefficient, subtract one from this number, and multiply by 100. This gives the percent increase (or decrease) in the response for every 1-unit increase in the independent variable.\n",
    "\n",
    "To see why we exponentiate:\n",
    "$$exp(log(y)) = exp(\\beta_0 + \\beta_1 x_1)$$\n",
    "\n",
    "$$y = exp(\\beta_0 + \\beta_1 x_1)$$\n",
    "\n",
    "$$y = exp(\\beta_0) exp(\\beta_1 x_1)$$\n",
    "\n",
    "From this, we can see that our independent variable now has a **multiplicative relationship** with our dependent variable instead of the usual **additive relationship**. Hence, the need to express the effect of a 1-unit change in x on y as a percent!\n",
    "\n",
    "Example: \n",
    "- For every 1-unit increase in `gr_liv_area`, our target variable `saleprice` will increase by 14%\n"
   ]
  },
  {
   "cell_type": "code",
   "execution_count": 26,
   "id": "7a4e30c2",
   "metadata": {
    "scrolled": false
   },
   "outputs": [
    {
     "data": {
      "text/html": [
       "<div>\n",
       "<style scoped>\n",
       "    .dataframe tbody tr th:only-of-type {\n",
       "        vertical-align: middle;\n",
       "    }\n",
       "\n",
       "    .dataframe tbody tr th {\n",
       "        vertical-align: top;\n",
       "    }\n",
       "\n",
       "    .dataframe thead th {\n",
       "        text-align: right;\n",
       "    }\n",
       "</style>\n",
       "<table border=\"1\" class=\"dataframe\">\n",
       "  <thead>\n",
       "    <tr style=\"text-align: right;\">\n",
       "      <th></th>\n",
       "      <th>Feature</th>\n",
       "      <th>Coef (%)</th>\n",
       "      <th>Abs Coef (%)</th>\n",
       "    </tr>\n",
       "  </thead>\n",
       "  <tbody>\n",
       "    <tr>\n",
       "      <th>0</th>\n",
       "      <td>gr_liv_area</td>\n",
       "      <td>14.0128</td>\n",
       "      <td>14.0128</td>\n",
       "    </tr>\n",
       "    <tr>\n",
       "      <th>1</th>\n",
       "      <td>overall_qual</td>\n",
       "      <td>8.7850</td>\n",
       "      <td>8.7850</td>\n",
       "    </tr>\n",
       "    <tr>\n",
       "      <th>2</th>\n",
       "      <td>total_bsmt_sf</td>\n",
       "      <td>5.2847</td>\n",
       "      <td>5.2847</td>\n",
       "    </tr>\n",
       "    <tr>\n",
       "      <th>3</th>\n",
       "      <td>overall_cond</td>\n",
       "      <td>4.2714</td>\n",
       "      <td>4.2714</td>\n",
       "    </tr>\n",
       "    <tr>\n",
       "      <th>4</th>\n",
       "      <td>neighborhood</td>\n",
       "      <td>4.1138</td>\n",
       "      <td>4.1138</td>\n",
       "    </tr>\n",
       "    <tr>\n",
       "      <th>5</th>\n",
       "      <td>functional_Sal</td>\n",
       "      <td>-3.2517</td>\n",
       "      <td>3.3610</td>\n",
       "    </tr>\n",
       "    <tr>\n",
       "      <th>6</th>\n",
       "      <td>foundation_PConc</td>\n",
       "      <td>3.1628</td>\n",
       "      <td>3.1628</td>\n",
       "    </tr>\n",
       "    <tr>\n",
       "      <th>7</th>\n",
       "      <td>bsmtfin_type_1</td>\n",
       "      <td>2.9570</td>\n",
       "      <td>2.9570</td>\n",
       "    </tr>\n",
       "    <tr>\n",
       "      <th>8</th>\n",
       "      <td>garage_qual</td>\n",
       "      <td>2.5251</td>\n",
       "      <td>2.5251</td>\n",
       "    </tr>\n",
       "    <tr>\n",
       "      <th>9</th>\n",
       "      <td>ms_zoning_C (all)</td>\n",
       "      <td>-2.3702</td>\n",
       "      <td>2.4278</td>\n",
       "    </tr>\n",
       "    <tr>\n",
       "      <th>10</th>\n",
       "      <td>paved_drive_present</td>\n",
       "      <td>2.3791</td>\n",
       "      <td>2.3791</td>\n",
       "    </tr>\n",
       "    <tr>\n",
       "      <th>11</th>\n",
       "      <td>house_sold_age</td>\n",
       "      <td>-2.1687</td>\n",
       "      <td>2.2167</td>\n",
       "    </tr>\n",
       "    <tr>\n",
       "      <th>12</th>\n",
       "      <td>bldg_type_Twnhs</td>\n",
       "      <td>-2.0618</td>\n",
       "      <td>2.1052</td>\n",
       "    </tr>\n",
       "    <tr>\n",
       "      <th>13</th>\n",
       "      <td>kitchen_qual</td>\n",
       "      <td>2.1022</td>\n",
       "      <td>2.1022</td>\n",
       "    </tr>\n",
       "    <tr>\n",
       "      <th>14</th>\n",
       "      <td>fireplaces</td>\n",
       "      <td>2.0152</td>\n",
       "      <td>2.0152</td>\n",
       "    </tr>\n",
       "    <tr>\n",
       "      <th>15</th>\n",
       "      <td>foundation_CBlock</td>\n",
       "      <td>1.8721</td>\n",
       "      <td>1.8721</td>\n",
       "    </tr>\n",
       "    <tr>\n",
       "      <th>16</th>\n",
       "      <td>bsmt_exposure</td>\n",
       "      <td>1.8400</td>\n",
       "      <td>1.8400</td>\n",
       "    </tr>\n",
       "    <tr>\n",
       "      <th>17</th>\n",
       "      <td>bsmt_qual</td>\n",
       "      <td>1.6817</td>\n",
       "      <td>1.6817</td>\n",
       "    </tr>\n",
       "    <tr>\n",
       "      <th>18</th>\n",
       "      <td>bldg_type_TwnhsE</td>\n",
       "      <td>-1.6295</td>\n",
       "      <td>1.6565</td>\n",
       "    </tr>\n",
       "    <tr>\n",
       "      <th>19</th>\n",
       "      <td>house_style_2Story</td>\n",
       "      <td>-1.4046</td>\n",
       "      <td>1.4246</td>\n",
       "    </tr>\n",
       "    <tr>\n",
       "      <th>20</th>\n",
       "      <td>ms_zoning_RM</td>\n",
       "      <td>-1.3965</td>\n",
       "      <td>1.4163</td>\n",
       "    </tr>\n",
       "    <tr>\n",
       "      <th>21</th>\n",
       "      <td>garage_area</td>\n",
       "      <td>1.3949</td>\n",
       "      <td>1.3949</td>\n",
       "    </tr>\n",
       "    <tr>\n",
       "      <th>22</th>\n",
       "      <td>functional_Typ</td>\n",
       "      <td>1.3817</td>\n",
       "      <td>1.3817</td>\n",
       "    </tr>\n",
       "    <tr>\n",
       "      <th>23</th>\n",
       "      <td>half_bath</td>\n",
       "      <td>1.3269</td>\n",
       "      <td>1.3269</td>\n",
       "    </tr>\n",
       "    <tr>\n",
       "      <th>24</th>\n",
       "      <td>roof_style_Mansard</td>\n",
       "      <td>-1.2777</td>\n",
       "      <td>1.2943</td>\n",
       "    </tr>\n",
       "    <tr>\n",
       "      <th>25</th>\n",
       "      <td>ms_zoning_FV</td>\n",
       "      <td>1.2572</td>\n",
       "      <td>1.2572</td>\n",
       "    </tr>\n",
       "    <tr>\n",
       "      <th>26</th>\n",
       "      <td>exter_qual</td>\n",
       "      <td>1.1199</td>\n",
       "      <td>1.1199</td>\n",
       "    </tr>\n",
       "    <tr>\n",
       "      <th>27</th>\n",
       "      <td>full_bath</td>\n",
       "      <td>1.0607</td>\n",
       "      <td>1.0607</td>\n",
       "    </tr>\n",
       "    <tr>\n",
       "      <th>28</th>\n",
       "      <td>foundation_Slab</td>\n",
       "      <td>0.9648</td>\n",
       "      <td>0.9648</td>\n",
       "    </tr>\n",
       "    <tr>\n",
       "      <th>29</th>\n",
       "      <td>condition_1_Norm</td>\n",
       "      <td>0.9616</td>\n",
       "      <td>0.9616</td>\n",
       "    </tr>\n",
       "    <tr>\n",
       "      <th>30</th>\n",
       "      <td>condition_1_PosN</td>\n",
       "      <td>0.8966</td>\n",
       "      <td>0.8966</td>\n",
       "    </tr>\n",
       "    <tr>\n",
       "      <th>31</th>\n",
       "      <td>garage_finish</td>\n",
       "      <td>0.8604</td>\n",
       "      <td>0.8604</td>\n",
       "    </tr>\n",
       "    <tr>\n",
       "      <th>32</th>\n",
       "      <td>garage_type_Detchd</td>\n",
       "      <td>-0.8279</td>\n",
       "      <td>0.8349</td>\n",
       "    </tr>\n",
       "    <tr>\n",
       "      <th>33</th>\n",
       "      <td>roof_style_Gambrel</td>\n",
       "      <td>-0.8200</td>\n",
       "      <td>0.8267</td>\n",
       "    </tr>\n",
       "    <tr>\n",
       "      <th>34</th>\n",
       "      <td>functional_Min1</td>\n",
       "      <td>0.8142</td>\n",
       "      <td>0.8142</td>\n",
       "    </tr>\n",
       "    <tr>\n",
       "      <th>35</th>\n",
       "      <td>mas_vnr_type_Stone</td>\n",
       "      <td>0.8103</td>\n",
       "      <td>0.8103</td>\n",
       "    </tr>\n",
       "    <tr>\n",
       "      <th>36</th>\n",
       "      <td>garage_type_Basment</td>\n",
       "      <td>-0.7194</td>\n",
       "      <td>0.7246</td>\n",
       "    </tr>\n",
       "    <tr>\n",
       "      <th>37</th>\n",
       "      <td>functional_Sev</td>\n",
       "      <td>-0.6843</td>\n",
       "      <td>0.6890</td>\n",
       "    </tr>\n",
       "    <tr>\n",
       "      <th>38</th>\n",
       "      <td>condition_1_PosA</td>\n",
       "      <td>0.6862</td>\n",
       "      <td>0.6862</td>\n",
       "    </tr>\n",
       "    <tr>\n",
       "      <th>39</th>\n",
       "      <td>bsmt_cond</td>\n",
       "      <td>-0.6473</td>\n",
       "      <td>0.6516</td>\n",
       "    </tr>\n",
       "    <tr>\n",
       "      <th>40</th>\n",
       "      <td>garage_type_None</td>\n",
       "      <td>0.6341</td>\n",
       "      <td>0.6341</td>\n",
       "    </tr>\n",
       "    <tr>\n",
       "      <th>41</th>\n",
       "      <td>land_contour_HLS</td>\n",
       "      <td>0.6033</td>\n",
       "      <td>0.6033</td>\n",
       "    </tr>\n",
       "    <tr>\n",
       "      <th>42</th>\n",
       "      <td>functional_Maj2</td>\n",
       "      <td>-0.5893</td>\n",
       "      <td>0.5928</td>\n",
       "    </tr>\n",
       "    <tr>\n",
       "      <th>43</th>\n",
       "      <td>roof_style_Gable</td>\n",
       "      <td>-0.5884</td>\n",
       "      <td>0.5919</td>\n",
       "    </tr>\n",
       "    <tr>\n",
       "      <th>44</th>\n",
       "      <td>bldg_type_Duplex</td>\n",
       "      <td>-0.5382</td>\n",
       "      <td>0.5412</td>\n",
       "    </tr>\n",
       "    <tr>\n",
       "      <th>45</th>\n",
       "      <td>mo_sold</td>\n",
       "      <td>0.5339</td>\n",
       "      <td>0.5339</td>\n",
       "    </tr>\n",
       "    <tr>\n",
       "      <th>46</th>\n",
       "      <td>ms_zoning_RL</td>\n",
       "      <td>0.4957</td>\n",
       "      <td>0.4957</td>\n",
       "    </tr>\n",
       "    <tr>\n",
       "      <th>47</th>\n",
       "      <td>lot_config_CulDSac</td>\n",
       "      <td>0.4908</td>\n",
       "      <td>0.4908</td>\n",
       "    </tr>\n",
       "    <tr>\n",
       "      <th>48</th>\n",
       "      <td>garage_type_CarPort</td>\n",
       "      <td>-0.4529</td>\n",
       "      <td>0.4550</td>\n",
       "    </tr>\n",
       "    <tr>\n",
       "      <th>49</th>\n",
       "      <td>house_style_SFoyer</td>\n",
       "      <td>0.4161</td>\n",
       "      <td>0.4161</td>\n",
       "    </tr>\n",
       "    <tr>\n",
       "      <th>50</th>\n",
       "      <td>foundation_Stone</td>\n",
       "      <td>0.4069</td>\n",
       "      <td>0.4069</td>\n",
       "    </tr>\n",
       "    <tr>\n",
       "      <th>51</th>\n",
       "      <td>lot_config_Inside</td>\n",
       "      <td>-0.4039</td>\n",
       "      <td>0.4055</td>\n",
       "    </tr>\n",
       "    <tr>\n",
       "      <th>52</th>\n",
       "      <td>house_style_2.5Fin</td>\n",
       "      <td>-0.4036</td>\n",
       "      <td>0.4052</td>\n",
       "    </tr>\n",
       "    <tr>\n",
       "      <th>53</th>\n",
       "      <td>condition_1_RRAn</td>\n",
       "      <td>0.3900</td>\n",
       "      <td>0.3900</td>\n",
       "    </tr>\n",
       "    <tr>\n",
       "      <th>54</th>\n",
       "      <td>foundation_Wood</td>\n",
       "      <td>0.3881</td>\n",
       "      <td>0.3881</td>\n",
       "    </tr>\n",
       "    <tr>\n",
       "      <th>55</th>\n",
       "      <td>bedroom_abvgr</td>\n",
       "      <td>-0.3628</td>\n",
       "      <td>0.3641</td>\n",
       "    </tr>\n",
       "    <tr>\n",
       "      <th>56</th>\n",
       "      <td>ms_zoning_RH</td>\n",
       "      <td>0.3076</td>\n",
       "      <td>0.3076</td>\n",
       "    </tr>\n",
       "    <tr>\n",
       "      <th>57</th>\n",
       "      <td>mas_vnr_area</td>\n",
       "      <td>0.2515</td>\n",
       "      <td>0.2515</td>\n",
       "    </tr>\n",
       "    <tr>\n",
       "      <th>58</th>\n",
       "      <td>exter_cond</td>\n",
       "      <td>0.2511</td>\n",
       "      <td>0.2511</td>\n",
       "    </tr>\n",
       "    <tr>\n",
       "      <th>59</th>\n",
       "      <td>exterior_2nd_present</td>\n",
       "      <td>0.2244</td>\n",
       "      <td>0.2244</td>\n",
       "    </tr>\n",
       "    <tr>\n",
       "      <th>60</th>\n",
       "      <td>functional_Min2</td>\n",
       "      <td>0.1966</td>\n",
       "      <td>0.1966</td>\n",
       "    </tr>\n",
       "    <tr>\n",
       "      <th>61</th>\n",
       "      <td>misc_feature_TenC</td>\n",
       "      <td>-0.1747</td>\n",
       "      <td>0.1750</td>\n",
       "    </tr>\n",
       "    <tr>\n",
       "      <th>62</th>\n",
       "      <td>condition_1_RRNn</td>\n",
       "      <td>-0.1743</td>\n",
       "      <td>0.1746</td>\n",
       "    </tr>\n",
       "    <tr>\n",
       "      <th>63</th>\n",
       "      <td>mas_vnr_type_CBlock</td>\n",
       "      <td>0.1666</td>\n",
       "      <td>0.1666</td>\n",
       "    </tr>\n",
       "    <tr>\n",
       "      <th>64</th>\n",
       "      <td>ms_zoning_I (all)</td>\n",
       "      <td>-0.1130</td>\n",
       "      <td>0.1131</td>\n",
       "    </tr>\n",
       "    <tr>\n",
       "      <th>65</th>\n",
       "      <td>misc_feature_Othr</td>\n",
       "      <td>0.1052</td>\n",
       "      <td>0.1052</td>\n",
       "    </tr>\n",
       "    <tr>\n",
       "      <th>66</th>\n",
       "      <td>land_contour_Low</td>\n",
       "      <td>0.0951</td>\n",
       "      <td>0.0951</td>\n",
       "    </tr>\n",
       "    <tr>\n",
       "      <th>67</th>\n",
       "      <td>lot_config_FR3</td>\n",
       "      <td>-0.0902</td>\n",
       "      <td>0.0902</td>\n",
       "    </tr>\n",
       "    <tr>\n",
       "      <th>68</th>\n",
       "      <td>mas_vnr_type_BrkFace</td>\n",
       "      <td>-0.0467</td>\n",
       "      <td>0.0467</td>\n",
       "    </tr>\n",
       "    <tr>\n",
       "      <th>69</th>\n",
       "      <td>roof_style_Shed</td>\n",
       "      <td>0.0431</td>\n",
       "      <td>0.0431</td>\n",
       "    </tr>\n",
       "    <tr>\n",
       "      <th>70</th>\n",
       "      <td>house_style_1.5Unf</td>\n",
       "      <td>0.0386</td>\n",
       "      <td>0.0386</td>\n",
       "    </tr>\n",
       "    <tr>\n",
       "      <th>71</th>\n",
       "      <td>house_style_SLvl</td>\n",
       "      <td>0.0230</td>\n",
       "      <td>0.0230</td>\n",
       "    </tr>\n",
       "    <tr>\n",
       "      <th>72</th>\n",
       "      <td>garage_type_Attchd</td>\n",
       "      <td>0.0000</td>\n",
       "      <td>0.0000</td>\n",
       "    </tr>\n",
       "    <tr>\n",
       "      <th>73</th>\n",
       "      <td>misc_feature_Shed</td>\n",
       "      <td>0.0000</td>\n",
       "      <td>0.0000</td>\n",
       "    </tr>\n",
       "    <tr>\n",
       "      <th>74</th>\n",
       "      <td>misc_feature_None</td>\n",
       "      <td>0.0000</td>\n",
       "      <td>0.0000</td>\n",
       "    </tr>\n",
       "    <tr>\n",
       "      <th>75</th>\n",
       "      <td>fireplace_qu</td>\n",
       "      <td>0.0000</td>\n",
       "      <td>0.0000</td>\n",
       "    </tr>\n",
       "    <tr>\n",
       "      <th>76</th>\n",
       "      <td>garage_type_BuiltIn</td>\n",
       "      <td>0.0000</td>\n",
       "      <td>0.0000</td>\n",
       "    </tr>\n",
       "    <tr>\n",
       "      <th>77</th>\n",
       "      <td>land_contour_Lvl</td>\n",
       "      <td>0.0000</td>\n",
       "      <td>0.0000</td>\n",
       "    </tr>\n",
       "    <tr>\n",
       "      <th>78</th>\n",
       "      <td>condition_1_Feedr</td>\n",
       "      <td>0.0000</td>\n",
       "      <td>0.0000</td>\n",
       "    </tr>\n",
       "    <tr>\n",
       "      <th>79</th>\n",
       "      <td>lot_config_FR2</td>\n",
       "      <td>0.0000</td>\n",
       "      <td>0.0000</td>\n",
       "    </tr>\n",
       "    <tr>\n",
       "      <th>80</th>\n",
       "      <td>functional_Mod</td>\n",
       "      <td>0.0000</td>\n",
       "      <td>0.0000</td>\n",
       "    </tr>\n",
       "    <tr>\n",
       "      <th>81</th>\n",
       "      <td>condition_1_RRAe</td>\n",
       "      <td>0.0000</td>\n",
       "      <td>0.0000</td>\n",
       "    </tr>\n",
       "    <tr>\n",
       "      <th>82</th>\n",
       "      <td>bldg_type_2fmCon</td>\n",
       "      <td>0.0000</td>\n",
       "      <td>0.0000</td>\n",
       "    </tr>\n",
       "    <tr>\n",
       "      <th>83</th>\n",
       "      <td>house_style_1Story</td>\n",
       "      <td>0.0000</td>\n",
       "      <td>0.0000</td>\n",
       "    </tr>\n",
       "    <tr>\n",
       "      <th>84</th>\n",
       "      <td>house_style_2.5Unf</td>\n",
       "      <td>0.0000</td>\n",
       "      <td>0.0000</td>\n",
       "    </tr>\n",
       "    <tr>\n",
       "      <th>85</th>\n",
       "      <td>roof_style_Hip</td>\n",
       "      <td>0.0000</td>\n",
       "      <td>0.0000</td>\n",
       "    </tr>\n",
       "    <tr>\n",
       "      <th>86</th>\n",
       "      <td>mas_vnr_type_None</td>\n",
       "      <td>0.0000</td>\n",
       "      <td>0.0000</td>\n",
       "    </tr>\n",
       "    <tr>\n",
       "      <th>87</th>\n",
       "      <td>condition_1_RRNe</td>\n",
       "      <td>0.0000</td>\n",
       "      <td>0.0000</td>\n",
       "    </tr>\n",
       "  </tbody>\n",
       "</table>\n",
       "</div>"
      ],
      "text/plain": [
       "                 Feature  Coef (%)  Abs Coef (%)\n",
       "0            gr_liv_area   14.0128       14.0128\n",
       "1           overall_qual    8.7850        8.7850\n",
       "2          total_bsmt_sf    5.2847        5.2847\n",
       "3           overall_cond    4.2714        4.2714\n",
       "4           neighborhood    4.1138        4.1138\n",
       "5         functional_Sal   -3.2517        3.3610\n",
       "6       foundation_PConc    3.1628        3.1628\n",
       "7         bsmtfin_type_1    2.9570        2.9570\n",
       "8            garage_qual    2.5251        2.5251\n",
       "9      ms_zoning_C (all)   -2.3702        2.4278\n",
       "10   paved_drive_present    2.3791        2.3791\n",
       "11        house_sold_age   -2.1687        2.2167\n",
       "12       bldg_type_Twnhs   -2.0618        2.1052\n",
       "13          kitchen_qual    2.1022        2.1022\n",
       "14            fireplaces    2.0152        2.0152\n",
       "15     foundation_CBlock    1.8721        1.8721\n",
       "16         bsmt_exposure    1.8400        1.8400\n",
       "17             bsmt_qual    1.6817        1.6817\n",
       "18      bldg_type_TwnhsE   -1.6295        1.6565\n",
       "19    house_style_2Story   -1.4046        1.4246\n",
       "20          ms_zoning_RM   -1.3965        1.4163\n",
       "21           garage_area    1.3949        1.3949\n",
       "22        functional_Typ    1.3817        1.3817\n",
       "23             half_bath    1.3269        1.3269\n",
       "24    roof_style_Mansard   -1.2777        1.2943\n",
       "25          ms_zoning_FV    1.2572        1.2572\n",
       "26            exter_qual    1.1199        1.1199\n",
       "27             full_bath    1.0607        1.0607\n",
       "28       foundation_Slab    0.9648        0.9648\n",
       "29      condition_1_Norm    0.9616        0.9616\n",
       "30      condition_1_PosN    0.8966        0.8966\n",
       "31         garage_finish    0.8604        0.8604\n",
       "32    garage_type_Detchd   -0.8279        0.8349\n",
       "33    roof_style_Gambrel   -0.8200        0.8267\n",
       "34       functional_Min1    0.8142        0.8142\n",
       "35    mas_vnr_type_Stone    0.8103        0.8103\n",
       "36   garage_type_Basment   -0.7194        0.7246\n",
       "37        functional_Sev   -0.6843        0.6890\n",
       "38      condition_1_PosA    0.6862        0.6862\n",
       "39             bsmt_cond   -0.6473        0.6516\n",
       "40      garage_type_None    0.6341        0.6341\n",
       "41      land_contour_HLS    0.6033        0.6033\n",
       "42       functional_Maj2   -0.5893        0.5928\n",
       "43      roof_style_Gable   -0.5884        0.5919\n",
       "44      bldg_type_Duplex   -0.5382        0.5412\n",
       "45               mo_sold    0.5339        0.5339\n",
       "46          ms_zoning_RL    0.4957        0.4957\n",
       "47    lot_config_CulDSac    0.4908        0.4908\n",
       "48   garage_type_CarPort   -0.4529        0.4550\n",
       "49    house_style_SFoyer    0.4161        0.4161\n",
       "50      foundation_Stone    0.4069        0.4069\n",
       "51     lot_config_Inside   -0.4039        0.4055\n",
       "52    house_style_2.5Fin   -0.4036        0.4052\n",
       "53      condition_1_RRAn    0.3900        0.3900\n",
       "54       foundation_Wood    0.3881        0.3881\n",
       "55         bedroom_abvgr   -0.3628        0.3641\n",
       "56          ms_zoning_RH    0.3076        0.3076\n",
       "57          mas_vnr_area    0.2515        0.2515\n",
       "58            exter_cond    0.2511        0.2511\n",
       "59  exterior_2nd_present    0.2244        0.2244\n",
       "60       functional_Min2    0.1966        0.1966\n",
       "61     misc_feature_TenC   -0.1747        0.1750\n",
       "62      condition_1_RRNn   -0.1743        0.1746\n",
       "63   mas_vnr_type_CBlock    0.1666        0.1666\n",
       "64     ms_zoning_I (all)   -0.1130        0.1131\n",
       "65     misc_feature_Othr    0.1052        0.1052\n",
       "66      land_contour_Low    0.0951        0.0951\n",
       "67        lot_config_FR3   -0.0902        0.0902\n",
       "68  mas_vnr_type_BrkFace   -0.0467        0.0467\n",
       "69       roof_style_Shed    0.0431        0.0431\n",
       "70    house_style_1.5Unf    0.0386        0.0386\n",
       "71      house_style_SLvl    0.0230        0.0230\n",
       "72    garage_type_Attchd    0.0000        0.0000\n",
       "73     misc_feature_Shed    0.0000        0.0000\n",
       "74     misc_feature_None    0.0000        0.0000\n",
       "75          fireplace_qu    0.0000        0.0000\n",
       "76   garage_type_BuiltIn    0.0000        0.0000\n",
       "77      land_contour_Lvl    0.0000        0.0000\n",
       "78     condition_1_Feedr    0.0000        0.0000\n",
       "79        lot_config_FR2    0.0000        0.0000\n",
       "80        functional_Mod    0.0000        0.0000\n",
       "81      condition_1_RRAe    0.0000        0.0000\n",
       "82      bldg_type_2fmCon    0.0000        0.0000\n",
       "83    house_style_1Story    0.0000        0.0000\n",
       "84    house_style_2.5Unf    0.0000        0.0000\n",
       "85        roof_style_Hip    0.0000        0.0000\n",
       "86     mas_vnr_type_None    0.0000        0.0000\n",
       "87      condition_1_RRNe    0.0000        0.0000"
      ]
     },
     "execution_count": 26,
     "metadata": {},
     "output_type": "execute_result"
    }
   ],
   "source": [
    "# create dataframe of features, lasso coefs, abs coefs\n",
    "lasso_df = pd.DataFrame({'Feature': features,\n",
    "                         'Coef (%)': ((np.exp(lasso.coef_)-1)*100).round(4),\n",
    "                         'Abs Coef (%)': ((np.exp(abs(lasso.coef_))-1)*100).round(4)})\n",
    "lasso_df = lasso_df.sort_values(by='Abs Coef (%)', ascending = False).reset_index(drop=True)\n",
    "lasso_df"
   ]
  },
  {
   "cell_type": "code",
   "execution_count": 27,
   "id": "ec4b281d",
   "metadata": {},
   "outputs": [
    {
     "data": {
      "text/plain": [
       "['gr_liv_area',\n",
       " 'overall_qual',\n",
       " 'total_bsmt_sf',\n",
       " 'overall_cond',\n",
       " 'neighborhood',\n",
       " 'foundation_PConc',\n",
       " 'bsmtfin_type_1',\n",
       " 'garage_qual',\n",
       " 'paved_drive_present',\n",
       " 'house_sold_age',\n",
       " 'bldg_type_Twnhs',\n",
       " 'kitchen_qual',\n",
       " 'fireplaces',\n",
       " 'foundation_CBlock',\n",
       " 'bsmt_exposure',\n",
       " 'bsmt_qual',\n",
       " 'bldg_type_TwnhsE',\n",
       " 'house_style_2Story',\n",
       " 'ms_zoning_RM',\n",
       " 'garage_area',\n",
       " 'functional_Typ',\n",
       " 'half_bath',\n",
       " 'roof_style_Mansard',\n",
       " 'ms_zoning_FV',\n",
       " 'exter_qual',\n",
       " 'full_bath',\n",
       " 'foundation_Slab',\n",
       " 'condition_1_Norm']"
      ]
     },
     "execution_count": 27,
     "metadata": {},
     "output_type": "execute_result"
    }
   ],
   "source": [
    "# noted that test data do not have 'functional_Sal' & 'ms_zoning_C (all)'\n",
    "# hence, we will replace these 2 with the next best 2 coefs\n",
    "production_feature = lasso_df.iloc[:30]\n",
    "production_feature = production_feature.drop([5,9])\n",
    "production_feature = production_feature.reset_index(drop=True)\n",
    "\n",
    "# create list of 28 features for production model\n",
    "production_features = production_feature['Feature'].values.tolist()\n",
    "production_features"
   ]
  },
  {
   "cell_type": "markdown",
   "id": "9f343c36",
   "metadata": {},
   "source": [
    "### Evaluate production model on training set"
   ]
  },
  {
   "cell_type": "code",
   "execution_count": 28,
   "id": "a58aa597",
   "metadata": {},
   "outputs": [],
   "source": [
    "# create input and output\n",
    "X = train_model[production_features]\n",
    "y = train_model['saleprice']\n",
    "\n",
    "# train test split\n",
    "X_train, X_test, y_train, y_test = train_test_split(X, y, random_state = 42, test_size=0.2)\n",
    "\n",
    "# scaling\n",
    "X_train_scaled = ss.fit_transform(X_train)\n",
    "X_test_scaled = ss.transform(X_test)"
   ]
  },
  {
   "cell_type": "code",
   "execution_count": 29,
   "id": "7c495197",
   "metadata": {},
   "outputs": [
    {
     "name": "stdout",
     "output_type": "stream",
     "text": [
      "Optimal lasso alpha: 0.0003446809528673383\n"
     ]
    }
   ],
   "source": [
    "# Optimal value for Lasso Regression  𝛼\n",
    "optimal_lasso = LassoCV(n_alphas=500, cv = 10)\n",
    "optimal_lasso.fit(X_train_scaled, y_train)\n",
    "\n",
    "print(f'Optimal lasso alpha: {optimal_lasso.alpha_}')"
   ]
  },
  {
   "cell_type": "code",
   "execution_count": 30,
   "id": "3e9da05d",
   "metadata": {},
   "outputs": [
    {
     "name": "stdout",
     "output_type": "stream",
     "text": [
      "Training R2(Lasso)  0.8993695249950974\n",
      "Testing R2(Lasso): 0.904024255494887\n",
      "Training RMSE(Lasso): 22089.582798390315\n",
      "Testing RMSE(Lasso): 22315.937273274536\n"
     ]
    }
   ],
   "source": [
    "# instantiate model with new optimal alpha\n",
    "lasso = Lasso(alpha=optimal_lasso.alpha_)\n",
    "\n",
    "# fit training data to lasso model\n",
    "lasso.fit(X_train_scaled,y_train)\n",
    "\n",
    "# calculate R^2 (non-CVS)\n",
    "print(\"Training R2(Lasso) \", lasso.score(X_train_scaled,y_train))\n",
    "print(\"Testing R2(Lasso):\", lasso.score(X_test_scaled,y_test))\n",
    "\n",
    "# calculate RMSE (non-CVS)\n",
    "print(\"Training RMSE(Lasso):\", np.sqrt(mean_squared_error(np.exp(y_train), np.exp(lasso.predict(X_train_scaled)))))\n",
    "print(\"Testing RMSE(Lasso):\", np.sqrt(mean_squared_error(np.exp(y_test), np.exp(lasso.predict(X_test_scaled)))))"
   ]
  },
  {
   "cell_type": "code",
   "execution_count": 31,
   "id": "4e238329",
   "metadata": {},
   "outputs": [
    {
     "data": {
      "image/png": "[encoded data removed]",
      "text/plain": [
       "<Figure size 432x576 with 1 Axes>"
      ]
     },
     "metadata": {},
     "output_type": "display_data"
    }
   ],
   "source": [
    "# production model\n",
    "# scatterplot to show predicted saleprice versus actual saleprice\n",
    "\n",
    "# find y_pred\n",
    "pm_y_pred = lasso.predict(X_test_scaled)\n",
    "pm_y_pred = np.exp(pm_y_pred)\n",
    "y_test = np.exp(y_test)\n",
    "plt.figure(figsize=(6,8))\n",
    "plt.scatter(y_test, pm_y_pred)\n",
    "\n",
    "p1 = max(max(y_test), max(pm_y_pred))\n",
    "p2 = min(min(y_test), min(pm_y_pred))\n",
    "plt.plot([p1, p2], [p1, p2], color = 'red', linewidth = 2)\n",
    "plt.title('Predicted vs. actual saleprice')\n",
    "plt.xlabel('Actual saleprice', fontsize=15)\n",
    "plt.ylabel('predicted saleprice', fontsize=15)\n",
    "plt.grid(False)\n",
    "plt.show()"
   ]
  },
  {
   "cell_type": "markdown",
   "id": "65ac6c94",
   "metadata": {},
   "source": [
    "### Production model limitations\n",
    "\n",
    "As observed above, there is a slight tradeoff between interpretability and accuracy. By decreasing the number of features input from 88 to 28, we have greatly increased the simplicity and interpretability of our model, but this also resulted in a slight decrease in R^2 (R^2 score indicates the percentage of how much the dependent variable is explained by changes in independent variables). However, I chose to proceed with the production model because despite the testing R^2 score of our production model decreasing by 0.7% compared to our original model, I was able to decrease the total number of features by 300%. Therefore, I would gladly take this tradeoff.\n",
    "\n",
    "Another limitation when building the model was that domain knowledge is required when deciding whether to convert nominal categories to ordinal, especially when looking at materials. For example, for `fence`, it is difficult to determine the rank of `privacy`, material and `no fence` or if one hot encoding it should be a fairer way. Hence, domain knowledge here was important  in which we would know if house buyers would deem which value as more valuable to them."
   ]
  },
  {
   "cell_type": "markdown",
   "id": "edd24470",
   "metadata": {},
   "source": [
    "## Kaggle Submission\n",
    "---\n",
    "\n",
    "Use production model to predict SalePrice for test set."
   ]
  },
  {
   "cell_type": "code",
   "execution_count": 32,
   "id": "4610725b",
   "metadata": {},
   "outputs": [],
   "source": [
    "# import cleaned test set\n",
    "test_df = pd.read_csv('../datasets/test_final_dummy.csv')"
   ]
  },
  {
   "cell_type": "code",
   "execution_count": 33,
   "id": "76037d97",
   "metadata": {},
   "outputs": [
    {
     "data": {
      "text/plain": [
       "(878, 28)"
      ]
     },
     "execution_count": 33,
     "metadata": {},
     "output_type": "execute_result"
    }
   ],
   "source": [
    "# input (2-D)\n",
    "X = test_df[production_features]\n",
    "X.shape"
   ]
  },
  {
   "cell_type": "code",
   "execution_count": 34,
   "id": "600fdb02",
   "metadata": {},
   "outputs": [],
   "source": [
    "# scale \n",
    "X_scaled = ss.fit_transform(X)"
   ]
  },
  {
   "cell_type": "code",
   "execution_count": 35,
   "id": "fb3c5e54",
   "metadata": {},
   "outputs": [
    {
     "name": "stdout",
     "output_type": "stream",
     "text": [
      "[137317.37 168772.62 202484.41 105674.33 167950.29  98172.81 111859.43\n",
      " 177764.39 189123.59 171899.69]\n"
     ]
    },
    {
     "data": {
      "text/plain": [
       "878"
      ]
     },
     "execution_count": 35,
     "metadata": {},
     "output_type": "execute_result"
    }
   ],
   "source": [
    "# y predict\n",
    "test_y_pred = lasso.predict(X_scaled)\n",
    "\n",
    "# convert y predict back to saleprice\n",
    "test_y_pred = np.exp(test_y_pred)\n",
    "\n",
    "# view first 10 values to check for successful conversion\n",
    "print(test_y_pred[:10].round(2))\n",
    "\n",
    "# view total number of observations, it should = 878\n",
    "len(test_y_pred)"
   ]
  },
  {
   "cell_type": "markdown",
   "id": "706e369a",
   "metadata": {},
   "source": [
    "### Create Kaggle submission file format (.csv)\n",
    "---\n",
    "\n",
    "The Kaggle score (RMSE) for the production model was **22525.28** ."
   ]
  },
  {
   "cell_type": "code",
   "execution_count": 36,
   "id": "11bfea20",
   "metadata": {},
   "outputs": [
    {
     "name": "stderr",
     "output_type": "stream",
     "text": [
      "<ipython-input-36-b751399f96bd>:3: SettingWithCopyWarning: \n",
      "A value is trying to be set on a copy of a slice from a DataFrame.\n",
      "Try using .loc[row_indexer,col_indexer] = value instead\n",
      "\n",
      "See the caveats in the documentation: https://pandas.pydata.org/pandas-docs/stable/user_guide/indexing.html#returning-a-view-versus-a-copy\n",
      "  submission['SalePrice'] = test_y_pred\n"
     ]
    },
    {
     "data": {
      "text/html": [
       "<div>\n",
       "<style scoped>\n",
       "    .dataframe tbody tr th:only-of-type {\n",
       "        vertical-align: middle;\n",
       "    }\n",
       "\n",
       "    .dataframe tbody tr th {\n",
       "        vertical-align: top;\n",
       "    }\n",
       "\n",
       "    .dataframe thead th {\n",
       "        text-align: right;\n",
       "    }\n",
       "</style>\n",
       "<table border=\"1\" class=\"dataframe\">\n",
       "  <thead>\n",
       "    <tr style=\"text-align: right;\">\n",
       "      <th></th>\n",
       "      <th>Id</th>\n",
       "      <th>SalePrice</th>\n",
       "    </tr>\n",
       "  </thead>\n",
       "  <tbody>\n",
       "    <tr>\n",
       "      <th>0</th>\n",
       "      <td>2658</td>\n",
       "      <td>137317.366214</td>\n",
       "    </tr>\n",
       "    <tr>\n",
       "      <th>1</th>\n",
       "      <td>2718</td>\n",
       "      <td>168772.621060</td>\n",
       "    </tr>\n",
       "    <tr>\n",
       "      <th>2</th>\n",
       "      <td>2414</td>\n",
       "      <td>202484.410688</td>\n",
       "    </tr>\n",
       "    <tr>\n",
       "      <th>3</th>\n",
       "      <td>1989</td>\n",
       "      <td>105674.329842</td>\n",
       "    </tr>\n",
       "    <tr>\n",
       "      <th>4</th>\n",
       "      <td>625</td>\n",
       "      <td>167950.285388</td>\n",
       "    </tr>\n",
       "    <tr>\n",
       "      <th>5</th>\n",
       "      <td>333</td>\n",
       "      <td>98172.808893</td>\n",
       "    </tr>\n",
       "    <tr>\n",
       "      <th>6</th>\n",
       "      <td>1327</td>\n",
       "      <td>111859.428557</td>\n",
       "    </tr>\n",
       "    <tr>\n",
       "      <th>7</th>\n",
       "      <td>858</td>\n",
       "      <td>177764.393349</td>\n",
       "    </tr>\n",
       "    <tr>\n",
       "      <th>8</th>\n",
       "      <td>95</td>\n",
       "      <td>189123.586238</td>\n",
       "    </tr>\n",
       "    <tr>\n",
       "      <th>9</th>\n",
       "      <td>1568</td>\n",
       "      <td>171899.688602</td>\n",
       "    </tr>\n",
       "  </tbody>\n",
       "</table>\n",
       "</div>"
      ],
      "text/plain": [
       "     Id      SalePrice\n",
       "0  2658  137317.366214\n",
       "1  2718  168772.621060\n",
       "2  2414  202484.410688\n",
       "3  1989  105674.329842\n",
       "4   625  167950.285388\n",
       "5   333   98172.808893\n",
       "6  1327  111859.428557\n",
       "7   858  177764.393349\n",
       "8    95  189123.586238\n",
       "9  1568  171899.688602"
      ]
     },
     "execution_count": 36,
     "metadata": {},
     "output_type": "execute_result"
    }
   ],
   "source": [
    "original_test = pd.read_csv('../datasets/test.csv')\n",
    "submission = original_test[['Id']]\n",
    "submission['SalePrice'] = test_y_pred\n",
    "submission.head(10)"
   ]
  },
  {
   "cell_type": "code",
   "execution_count": 37,
   "id": "0379f8b4",
   "metadata": {},
   "outputs": [],
   "source": [
    "# export csv for submission in to Kaggle\n",
    "submission.to_csv('../datasets/kaggle_submission.csv', index = False)"
   ]
  },
  {
   "cell_type": "markdown",
   "id": "c6bdde04",
   "metadata": {},
   "source": [
    "## Interpretation and insights\n",
    "---"
   ]
  },
  {
   "cell_type": "markdown",
   "id": "40bb8b14",
   "metadata": {},
   "source": [
    "### Feature coefficient analysis"
   ]
  },
  {
   "cell_type": "code",
   "execution_count": 38,
   "id": "f046975a",
   "metadata": {},
   "outputs": [
    {
     "data": {
      "image/png": "[encoded data removed]",
      "text/plain": [
       "<Figure size 864x720 with 1 Axes>"
      ]
     },
     "metadata": {},
     "output_type": "display_data"
    }
   ],
   "source": [
    "# Full plot of top 30 features wrt lasso coefficients\n",
    "plt.figure(figsize= (12,10))\n",
    "data = lasso_df[['Feature','Coef (%)']].head(30)\n",
    "ax = sns.barplot(data=data, y='Feature', x = 'Coef (%)', orient='h', palette = 'Spectral')\n",
    "ax.set_ylabel('')\n",
    "ax.set_xlabel('Lasso Regression Coefficient (%)', fontsize = 14)\n",
    "plt.grid(False)\n",
    "plt.title('Top 30 relevant features')\n",
    "plt.show()"
   ]
  },
  {
   "cell_type": "markdown",
   "id": "e97c4770",
   "metadata": {},
   "source": [
    "As seen on the bar chart above, **area** and **quality** of the house in general seems to be the biggest contributor to value of housing. Hence, a per unit increase in area of the house would cause a much greater percentage increase in the house price compare to other features. This is the same for quality / condition of the house, in which the better the quality / material used, the house price would increase to a greater extent as compared to other features.\n",
    "\n",
    "We will be zooming into the features below when giving [business recommendations to management](#Business-recommendations-to-management) in relation to house flipping:\n",
    "\n",
    "<u>Area features</u>:\n",
    "- gr_liv_area\n",
    "- total_bsmt_sf\n",
    "- paved_drive_present\n",
    "\n",
    "<u>Quality features</u>:\n",
    "- overall_qual\n",
    "- over_cond\n",
    "- foundation_PConc\n",
    "- bsmtfin_type_1\n",
    "- garage_qual"
   ]
  },
  {
   "cell_type": "markdown",
   "id": "c2752762",
   "metadata": {},
   "source": [
    "### Neighborhood analysis"
   ]
  },
  {
   "cell_type": "code",
   "execution_count": 39,
   "id": "d410f363",
   "metadata": {},
   "outputs": [
    {
     "data": {
      "image/png": "[encoded data removed]",
      "text/plain": [
       "<Figure size 864x720 with 1 Axes>"
      ]
     },
     "metadata": {},
     "output_type": "display_data"
    }
   ],
   "source": [
    "# visualise neighborhood based on mean saleprice\n",
    "train_final = pd.read_csv('../datasets/train_cleaned.csv')\n",
    "nbhd = train_final.groupby('neighborhood', as_index=True)['saleprice'].mean().sort_values(ascending=False)\n",
    "nbhd_df = pd.DataFrame({'neighborhood': nbhd.index,\n",
    "                       'mean_saleprice': nbhd})\n",
    "\n",
    "# plot horizontal bar chart to visualize\n",
    "plt.figure(figsize= (12,10))\n",
    "ax = sns.barplot(data=nbhd_df, x = 'mean_saleprice',y='neighborhood',orient='h', palette = 'Spectral')\n",
    "ax.set_ylabel('')\n",
    "ax.set_xlabel('Mean Sale Price', fontsize = 14)\n",
    "plt.grid(False)\n",
    "plt.title('Most expensive neighborhood')\n",
    "plt.show()"
   ]
  },
  {
   "cell_type": "code",
   "execution_count": 40,
   "id": "7d9bb6bd",
   "metadata": {},
   "outputs": [
    {
     "data": {
      "image/png": "[encoded data removed]",
      "text/plain": [
       "<Figure size 720x576 with 1 Axes>"
      ]
     },
     "metadata": {},
     "output_type": "display_data"
    }
   ],
   "source": [
    "# visualise neighborhood based on gr_liv_area\n",
    "nbhd_area = train_final.groupby('neighborhood', as_index=True)['gr_liv_area'].mean().sort_values(ascending=False)\n",
    "nbhd_area_df = pd.DataFrame({'neighborhood': nbhd_area.index,\n",
    "                       'mean_gr_liv_area': nbhd_area})\n",
    "\n",
    "# plot horizontal bar chart to visualize\n",
    "plt.figure(figsize= (10,8))\n",
    "ax = sns.barplot(data=nbhd_area_df.head(10), x = 'mean_gr_liv_area',y='neighborhood',orient='h', palette = 'Spectral')\n",
    "ax.set_ylabel('')\n",
    "ax.set_xlabel('Mean Living Area (sq)', fontsize = 14)\n",
    "plt.grid(False)\n",
    "plt.title('Above ground living area (sq)')\n",
    "plt.show()"
   ]
  },
  {
   "cell_type": "markdown",
   "id": "8aa19968",
   "metadata": {},
   "source": [
    "Given that `neighborhood` is one of our Top 5 Features based on Lasso Regression Coefficient, it is therefore one of the features that would give the greatest increase in sale price. \n",
    "\n",
    "To address our problem statement, in order to flip houses for a profit, the company should look into the 3 most expensive neighborhoods, namely `StoneBr` (Stone Brook), `NridgHt` (Northridge Heights), and `NoRidge` (Northridge).\n",
    "\n",
    "- Firstly, the company should avoid buying the property if its predicted sale price exceeds the respective mean sales price. \n",
    "- Secondly, if predicted sales prices are approximately below $300,000, then the property is most likely undervalued. Management should look into the **area** and **quality** features as mentioned [above](#Feature-coefficient-analysis) to determine which of the undervalued properties would give the most return on investment (ROI).\n",
    "- It is recommended for management to focus more attention into finding undervalued properties in `NoRidge` among the other two previously stated, as houses in NoRidge are generally larger in size. Hence, management could purchase an undervalued house in NoRidge, expand the house to be one of the larger houses in the neighborhood (bearing in mind that 1 sq increase in above ground living area results in a 14 percent increase in saleprice) and sell the house for a much higher profit."
   ]
  },
  {
   "cell_type": "markdown",
   "id": "de53fba0",
   "metadata": {},
   "source": [
    "## Business recommendations to management\n",
    "---"
   ]
  },
  {
   "cell_type": "markdown",
   "id": "56fa01bf",
   "metadata": {},
   "source": [
    "Based on our model, our company looking to flip undervalued houses and sell them for a profit could focus on the following during the renovation (i.e. flipping) process:\n",
    "\n",
    "- Improve the overall quality of material and finish of the house\n",
    "- Improve the overall condition of the house ( e.g. repainting and upkeeping )\n",
    "- The foundation of the house should be 'Poured Concrete'\n",
    "- Improve the basement finished area ( * do not let it go unfinished )\n",
    "- Renovate the garage if it is in bad condition ( * add a garage if there isn't one )\n",
    "- Add a paved driveway\n",
    "- Add a fireplace\n",
    "\n",
    "In terms of choosing which house to flip (i.e. location of house) :\n",
    "- It is recommended for management to focus more attention into finding undervalued properties in NoRidge, as houses in NoRidge are generally larger in size. Hence, management could purchase an undervalued house in NoRidge, expand the house to be one of the larger houses in the neighborhood (bearing in mind that 1 sq increase in above ground living area results in a 14 percent increase in saleprice) and sell the house for a much higher profit\n",
    "\n",
    "\n",
    "<u>Do the team feel that this model will generalize to other cities? How could the team revise the model to make it more universal?</u>\n",
    "\n",
    "Ames trend:\n",
    "![](../pictures/ames_trend.png)\n",
    "\n",
    "US general trend:\n",
    "![](../pictures/general_trend.png)\n",
    "\n",
    "\n",
    "The city of Ames do display trends that are in line with the majority of the cities. One example is the trend of housing prices even during the **subprime mortgage crisis of 2008**.\n",
    "\n",
    "**However**, one point to keep in mind that the last date recorded was in 2010 and there are not enough recent data to determine that Ames saleprice trend is still the same as the general US cities trend due to various factors such as housing policy changes, recession economy and COVID'19. Hence, the team do feel that this model may be applicable to a certain extent when using on other cities in the United States. \n",
    "\n",
    "In order to revise the model to make it more universal, the simplest say would be to collect more recent data (2011-2021), preferably from other cities as well such as Los Angeles and New York, and create a model with a time period of 2000 - 2021. More universal features could also be added into the new data such as 'high rise buildings', 'elevators' and 'centralise carparks'."
   ]
  },
  {
   "cell_type": "markdown",
   "id": "d6adfae9",
   "metadata": {},
   "source": [
    "## Appendix"
   ]
  },
  {
   "cell_type": "code",
   "execution_count": 41,
   "id": "5bd6bb2a",
   "metadata": {},
   "outputs": [
    {
     "data": {
      "image/png": "[encoded data removed]",
      "text/plain": [
       "<Figure size 720x576 with 1 Axes>"
      ]
     },
     "metadata": {},
     "output_type": "display_data"
    }
   ],
   "source": [
    "# visualise saleprice based on yr_built\n",
    "sale_year = train_final.groupby('year_built', as_index=True)['saleprice'].median().sort_values(ascending=False)\n",
    "sale_year_df = pd.DataFrame({'year_built': sale_year.index,\n",
    "                       'median_saleprice': sale_year})\n",
    "plt.figure(figsize= (10,8))\n",
    "ax = sns.barplot(data=sale_year_df.head(10), x = 'year_built',y='median_saleprice', palette = 'Spectral')\n",
    "ax.set_ylabel('')\n",
    "ax.set_xlabel('Year constructed', fontsize = 14)\n",
    "plt.grid(False)\n",
    "plt.title('Median saleprice over time')\n",
    "plt.show()"
   ]
  },
  {
   "cell_type": "code",
   "execution_count": 42,
   "id": "6063d898",
   "metadata": {},
   "outputs": [
    {
     "data": {
      "text/plain": [
       "<Figure size 1080x1080 with 0 Axes>"
      ]
     },
     "metadata": {},
     "output_type": "display_data"
    },
    {
     "data": {
      "image/png": "[encoded data removed]",
      "text/plain": [
       "<Figure size 432x288 with 1 Axes>"
      ]
     },
     "metadata": {},
     "output_type": "display_data"
    }
   ],
   "source": [
    "# visualise saleprice based on yr_built\n",
    "sale_year = train_final.groupby('year_built', as_index=True)['saleprice'].median().sort_values(ascending=False)\n",
    "sale_year_df = pd.DataFrame({'year_built': sale_year.index,\n",
    "                       'median_saleprice': sale_year})\n",
    "sale_year_df.reset_index(drop=True,inplace=True)\n",
    "sale_year_df=sale_year_df.sort_values(by='year_built')\n",
    "sale_year_df.head(30)\n",
    "plt.figure(figsize= (15,15))\n",
    "sale_year_df.plot(x = 'year_built', y = 'median_saleprice', kind = 'line', linewidth = 2)\n",
    "plt.ylabel('')\n",
    "plt.xlabel('Year constructed', fontsize = 14)\n",
    "plt.xlim(1990,2010)\n",
    "x= [1990,1995,2000,2005,2008,2010]\n",
    "plt.xticks(x)\n",
    "plt.yticks(np.arange(100_000,400_000,40_000))\n",
    "# plt.grid(False)\n",
    "plt.title('Median saleprice over time')\n",
    "plt.show()"
   ]
  },
  {
   "cell_type": "markdown",
   "id": "48bdc432",
   "metadata": {},
   "source": [
    "<s><u>**Step 2**</u>\n",
    "\n",
    "As the features in the dataset should conform to the statistical assumptions of the models, in the case of Linear Regression, it should follow more or less a normal distribution. We will be using `PowerTransformer` which applies a power transformation to each feature to make the data more Gaussian-like in order to stabilize variance and minimize skewness. By default, PowerTransformer applies zero-mean, unit variance normalization. <sup>[(1)](https://scikit-learn.org/stable/auto_examples/preprocessing/plot_all_scaling.html)</sup>\n",
    "\n",
    "As StandardScaler cannot guarantee balanced feature scales in the presence of outliers (i.e. more weight given to outliers). Hence, we will be replacing it with PowerTransformer.<s>"
   ]
  },
  {
   "cell_type": "code",
   "execution_count": 43,
   "id": "e945b658",
   "metadata": {},
   "outputs": [],
   "source": [
    "# # power transform\n",
    "# pt = PowerTransformer()\n",
    "\n",
    "# X_train_power = pt.fit_transform(X_train)\n",
    "# X_test_power = pt.transform(X_test)"
   ]
  },
  {
   "cell_type": "code",
   "execution_count": 44,
   "id": "463b9bfc",
   "metadata": {},
   "outputs": [],
   "source": [
    "# # fit training data to lasso model with PowerTransformer\n",
    "# lasso.fit(X_train_power,y_train)"
   ]
  },
  {
   "cell_type": "code",
   "execution_count": 45,
   "id": "e7c6057c",
   "metadata": {},
   "outputs": [],
   "source": [
    "# # calculate R^2 (non-CVS) with PowerTransformer\n",
    "# print(\"Training R2(Lasso) \", lasso.score(X_train_power,y_train))\n",
    "# print(\"Testing R2(Lasso):\", lasso.score(X_test_power,y_test))"
   ]
  },
  {
   "cell_type": "code",
   "execution_count": 46,
   "id": "066c7492",
   "metadata": {},
   "outputs": [],
   "source": [
    "# # calculate RMSE (non-CVS) with PowerTransformer\n",
    "# print(\"Training RMSE(Lasso):\", np.sqrt(mean_squared_error(y_train, lasso.predict(X_train_power))))\n",
    "# print(\"Testing RMSE(Lasso):\", np.sqrt(mean_squared_error(y_test, lasso.predict(X_test_power))))"
   ]
  }
 ],
 "metadata": {
  "kernelspec": {
   "display_name": "Python 3",
   "language": "python",
   "name": "python3"
  },
  "language_info": {
   "codemirror_mode": {
    "name": "ipython",
    "version": 3
   },
   "file_extension": ".py",
   "mimetype": "text/x-python",
   "name": "python",
   "nbconvert_exporter": "python",
   "pygments_lexer": "ipython3",
   "version": "3.8.8"
  }
 },
 "nbformat": 4,
 "nbformat_minor": 5
}
